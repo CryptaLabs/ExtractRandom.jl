{
 "cells": [
  {
   "cell_type": "code",
   "execution_count": 1,
   "metadata": {},
   "outputs": [],
   "source": [
    "using BenchmarkTools\n",
    "using ExtractRandom"
   ]
  },
  {
   "cell_type": "code",
   "execution_count": 2,
   "metadata": {},
   "outputs": [],
   "source": [
    "types = [Vector{Bool}, BitVector, Vector{Int8}, Vector{Int64}]\n",
    "data_sizes = 2.^(6:4:30)\n",
    "a_sizes = [(512, 1024)]\n",
    "const suite = BenchmarkGroup([\"two_universal\"])\n",
    "\n",
    "for itype in types\n",
    "    suite[itype] = BenchmarkGroup()\n",
    "    for o in data_sizes\n",
    "        suite[itype][div(o, 2)] = BenchmarkGroup()\n",
    "    end\n",
    "end\n",
    "\n",
    "for itype in types\n",
    "    for data_size in data_sizes\n",
    "        for a_size in a_sizes\n",
    "            (data_size % a_size[2] == 0 && data_size ≥ a_size[2]) || continue\n",
    "            \n",
    "            a = rand(eltype(itype), a_size)\n",
    "            v = rand(eltype(itype), data_size)\n",
    "            \n",
    "            multiple = div(length(v), size(a, 2))\n",
    "            if eltype(itype) <: Bool\n",
    "                a = convert(BitMatrix, a)\n",
    "                v = convert(BitArray, v)\n",
    "                n = div(length(v), size(a, 2)) * size(a, 1)\n",
    "                x = BitVector(n)\n",
    "            else\n",
    "                n = round(Int64, (div(length(v), size(a, 2)) * size(a, 1)) / 8sizeof(eltype(itype)), RoundUp)\n",
    "                x = convert(itype, zeros(eltype(itype), n))\n",
    "            end\n",
    "            suite[itype][div(data_size, 2)][a_size] = @benchmarkable two_universal!($(a), $(v), $(x))\n",
    "        end\n",
    "    end\n",
    "end\n"
   ]
  },
  {
   "cell_type": "code",
   "execution_count": null,
   "metadata": {},
   "outputs": [],
   "source": [
    "tune!(suite)"
   ]
  },
  {
   "cell_type": "code",
   "execution_count": null,
   "metadata": {},
   "outputs": [],
   "source": [
    " results = run(suite, verbose = true, seconds = 1)"
   ]
  },
  {
   "cell_type": "code",
   "execution_count": 3,
   "metadata": {},
   "outputs": [
    {
     "ename": "LoadError",
     "evalue": "UndefVarError: results not defined",
     "output_type": "error",
     "traceback": [
      "UndefVarError: results not defined",
      ""
     ]
    }
   ],
   "source": [
    "results[Vector{Int64}][512][(64,128)]"
   ]
  },
  {
   "cell_type": "code",
   "execution_count": 4,
   "metadata": {},
   "outputs": [
    {
     "name": "stdout",
     "output_type": "stream",
     "text": [
      "4-element BenchmarkTools.BenchmarkGroup:\n",
      "  tags: [\"two_universal\"]\n",
      "  Array{Bool,1} => 7-element BenchmarkTools.BenchmarkGroup:\n",
      "\t  tags: []\n",
      "\t  512 => 1-element BenchmarkTools.BenchmarkGroup:\n",
      "\t\t  tags: []\n",
      "\t\t  (512,1024) => Benchmark(evals=1, seconds=5.0, samples=10000)\n",
      "\t  2097152 => 1-element BenchmarkTools.BenchmarkGroup:\n",
      "\t\t  tags: []\n",
      "\t\t  (512,1024) => Benchmark(evals=1, seconds=5.0, samples=10000)\n",
      "\t  32 => 0-element BenchmarkTools.BenchmarkGroup:\n",
      "\t\t  tags: []\n",
      "\t  33554432 => 1-element BenchmarkTools.BenchmarkGroup:\n",
      "\t\t  tags: []\n",
      "\t\t  (512,1024) => Benchmark(evals=1, seconds=5.0, samples=10000)\n",
      "\t  131072 => 1-element BenchmarkTools.BenchmarkGroup:\n",
      "\t\t  tags: []\n",
      "\t\t  (512,1024) => Benchmark(evals=1, seconds=5.0, samples=10000)\n",
      "\t  8192 => 1-element BenchmarkTools.BenchmarkGroup:\n",
      "\t\t  tags: []\n",
      "\t\t  (512,1024) => Benchmark(evals=1, seconds=5.0, samples=10000)\n",
      "\t  536870912 => 1-element BenchmarkTools.BenchmarkGroup:\n",
      "\t\t  tags: []\n",
      "\t\t  (512,1024) => Benchmark(evals=1, seconds=5.0, samples=10000)\n",
      "  Array{Int8,1} => 7-element BenchmarkTools.BenchmarkGroup:\n",
      "\t  tags: []\n",
      "\t  512 => 1-element BenchmarkTools.BenchmarkGroup:\n",
      "\t\t  tags: []\n",
      "\t\t  (512,1024) => Benchmark(evals=1, seconds=5.0, samples=10000)\n",
      "\t  2097152 => 1-element BenchmarkTools.BenchmarkGroup:\n",
      "\t\t  tags: []\n",
      "\t\t  (512,1024) => Benchmark(evals=1, seconds=5.0, samples=10000)\n",
      "\t  32 => 0-element BenchmarkTools.BenchmarkGroup:\n",
      "\t\t  tags: []\n",
      "\t  33554432 => 1-element BenchmarkTools.BenchmarkGroup:\n",
      "\t\t  tags: []\n",
      "\t\t  (512,1024) => Benchmark(evals=1, seconds=5.0, samples=10000)\n",
      "\t  131072 => 1-element BenchmarkTools.BenchmarkGroup:\n",
      "\t\t  tags: []\n",
      "\t\t  (512,1024) => Benchmark(evals=1, seconds=5.0, samples=10000)\n",
      "\t  8192 => 1-element BenchmarkTools.BenchmarkGroup:\n",
      "\t\t  tags: []\n",
      "\t\t  (512,1024) => Benchmark(evals=1, seconds=5.0, samples=10000)\n",
      "\t  536870912 => 1-element BenchmarkTools.BenchmarkGroup:\n",
      "\t\t  tags: []\n",
      "\t\t  (512,1024) => Benchmark(evals=1, seconds=5.0, samples=10000)\n",
      "  BitArray{1} => 7-element BenchmarkTools.BenchmarkGroup:\n",
      "\t  tags: []\n",
      "\t  512 => 1-element BenchmarkTools.BenchmarkGroup:\n",
      "\t\t  tags: []\n",
      "\t\t  (512,1024) => Benchmark(evals=1, seconds=5.0, samples=10000)\n",
      "\t  2097152 => 1-element BenchmarkTools.BenchmarkGroup:\n",
      "\t\t  tags: []\n",
      "\t\t  (512,1024) => Benchmark(evals=1, seconds=5.0, samples=10000)\n",
      "\t  32 => 0-element BenchmarkTools.BenchmarkGroup:\n",
      "\t\t  tags: []\n",
      "\t  33554432 => 1-element BenchmarkTools.BenchmarkGroup:\n",
      "\t\t  tags: []\n",
      "\t\t  (512,1024) => Benchmark(evals=1, seconds=5.0, samples=10000)\n",
      "\t  131072 => 1-element BenchmarkTools.BenchmarkGroup:\n",
      "\t\t  tags: []\n",
      "\t\t  (512,1024) => Benchmark(evals=1, seconds=5.0, samples=10000)\n",
      "\t  8192 => 1-element BenchmarkTools.BenchmarkGroup:\n",
      "\t\t  tags: []\n",
      "\t\t  (512,1024) => Benchmark(evals=1, seconds=5.0, samples=10000)\n",
      "\t  536870912 => 1-element BenchmarkTools.BenchmarkGroup:\n",
      "\t\t  tags: []\n",
      "\t\t  (512,1024) => Benchmark(evals=1, seconds=5.0, samples=10000)\n",
      "  Array{Int64,1} => 7-element BenchmarkTools.BenchmarkGroup:\n",
      "\t  tags: []\n",
      "\t  512 => 1-element BenchmarkTools.BenchmarkGroup:\n",
      "\t\t  tags: []\n",
      "\t\t  (512,1024) => Benchmark(evals=1, seconds=5.0, samples=10000)\n",
      "\t  2097152 => 1-element BenchmarkTools.BenchmarkGroup:\n",
      "\t\t  tags: []\n",
      "\t\t  (512,1024) => Benchmark(evals=1, seconds=5.0, samples=10000)\n",
      "\t  32 => 0-element BenchmarkTools.BenchmarkGroup:\n",
      "\t\t  tags: []\n",
      "\t  33554432 => 1-element BenchmarkTools.BenchmarkGroup:\n",
      "\t\t  tags: []\n",
      "\t\t  (512,1024) => Benchmark(evals=1, seconds=5.0, samples=10000)\n",
      "\t  131072 => 1-element BenchmarkTools.BenchmarkGroup:\n",
      "\t\t  tags: []\n",
      "\t\t  (512,1024) => Benchmark(evals=1, seconds=5.0, samples=10000)\n",
      "\t  8192 => 1-element BenchmarkTools.BenchmarkGroup:\n",
      "\t\t  tags: []\n",
      "\t\t  (512,1024) => Benchmark(evals=1, seconds=5.0, samples=10000)\n",
      "\t  536870912 => 1-element BenchmarkTools.BenchmarkGroup:\n",
      "\t\t  tags: []\n",
      "\t\t  (512,1024) => Benchmark(evals=1, seconds=5.0, samples=10000)"
     ]
    }
   ],
   "source": [
    "showall(suite)"
   ]
  },
  {
   "cell_type": "code",
   "execution_count": 13,
   "metadata": {},
   "outputs": [
    {
     "data": {
      "text/plain": [
       "BenchmarkTools.Trial: \n",
       "  memory estimate:  0 bytes\n",
       "  allocs estimate:  0\n",
       "  --------------\n",
       "  minimum time:     11.912 s (0.00% GC)\n",
       "  median time:      12.205 s (0.00% GC)\n",
       "  mean time:        12.269 s (0.00% GC)\n",
       "  maximum time:     12.690 s (0.00% GC)\n",
       "  --------------\n",
       "  samples:          3\n",
       "  evals/sample:     1"
      ]
     },
     "execution_count": 13,
     "metadata": {},
     "output_type": "execute_result"
    }
   ],
   "source": [
    "run(suite[Vector{Int64}][8192][(512, 1024)], samples=3, seconds=60)"
   ]
  },
  {
   "cell_type": "code",
   "execution_count": 15,
   "metadata": {},
   "outputs": [
    {
     "data": {
      "text/plain": [
       "BenchmarkTools.Trial: \n",
       "  memory estimate:  0 bytes\n",
       "  allocs estimate:  0\n",
       "  --------------\n",
       "  minimum time:     4.356 s (0.00% GC)\n",
       "  median time:      4.425 s (0.00% GC)\n",
       "  mean time:        4.432 s (0.00% GC)\n",
       "  maximum time:     4.554 s (0.00% GC)\n",
       "  --------------\n",
       "  samples:          14\n",
       "  evals/sample:     1"
      ]
     },
     "execution_count": 15,
     "metadata": {},
     "output_type": "execute_result"
    }
   ],
   "source": [
    "run(suite[Vector{Int8}][8192][(512, 1024)], samples=20, seconds=60)"
   ]
  },
  {
   "cell_type": "code",
   "execution_count": null,
   "metadata": {
    "collapsed": true
   },
   "outputs": [],
   "source": []
  }
 ],
 "metadata": {
  "kernelspec": {
   "display_name": "Julia 0.5.2",
   "language": "julia",
   "name": "julia-0.5"
  },
  "language_info": {
   "file_extension": ".jl",
   "mimetype": "application/julia",
   "name": "julia",
   "version": "0.5.2"
  }
 },
 "nbformat": 4,
 "nbformat_minor": 2
}
