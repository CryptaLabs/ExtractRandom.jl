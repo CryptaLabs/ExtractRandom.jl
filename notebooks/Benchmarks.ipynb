{
 "cells": [
  {
   "cell_type": "code",
   "execution_count": 1,
   "metadata": {
    "collapsed": true
   },
   "outputs": [],
   "source": [
    "using BenchmarkTools\n",
    "using ExtractRandom"
   ]
  },
  {
   "cell_type": "code",
   "execution_count": 2,
   "metadata": {
    "collapsed": true
   },
   "outputs": [],
   "source": [
    "types = [Vector{Bool}, BitVector, Vector{Int8}, Vector{Int64}]\n",
    "data_sizes = 2.^(6:4:30)\n",
    "a_sizes = [(512, 1024)]\n",
    "const suite = BenchmarkGroup([\"two_universal\"])\n",
    "\n",
    "for itype in types\n",
    "    suite[itype] = BenchmarkGroup()\n",
    "    for o in data_sizes\n",
    "        suite[itype][div(o, 2)] = BenchmarkGroup()\n",
    "    end\n",
    "end\n",
    "\n",
    "for itype in types\n",
    "    for data_size in data_sizes\n",
    "        for a_size in a_sizes\n",
    "            (data_size % a_size[2] == 0 && data_size ≥ a_size[2]) || continue\n",
    "            \n",
    "            a = rand(eltype(itype), a_size)\n",
    "            v = rand(eltype(itype), data_size)\n",
    "            \n",
    "            multiple = div(length(v), size(a, 2))\n",
    "            if eltype(itype) <: Bool\n",
    "                a = convert(BitMatrix, a)\n",
    "                v = convert(BitArray, v)\n",
    "                n = div(length(v), size(a, 2)) * size(a, 1)\n",
    "                x = BitVector(n)\n",
    "            else\n",
    "                n = round(Int64, (div(length(v), size(a, 2)) * size(a, 1)) / 8sizeof(eltype(itype)), RoundUp)\n",
    "                x = convert(itype, zeros(eltype(itype), n))\n",
    "            end\n",
    "            suite[itype][div(data_size, 2)][a_size] = @benchmarkable two_universal!($(a), $(v), $(x))\n",
    "        end\n",
    "    end\n",
    "end\n"
   ]
  },
  {
   "cell_type": "code",
   "execution_count": null,
   "metadata": {
    "collapsed": true
   },
   "outputs": [],
   "source": [
    "tune!(suite)"
   ]
  },
  {
   "cell_type": "code",
   "execution_count": null,
   "metadata": {
    "collapsed": true
   },
   "outputs": [],
   "source": [
    " results = run(suite, verbose = true, seconds = 1)"
   ]
  },
  {
   "cell_type": "code",
   "execution_count": 3,
   "metadata": {},
   "outputs": [
    {
     "ename": "LoadError",
     "evalue": "UndefVarError: results not defined",
     "output_type": "error",
     "traceback": [
      "UndefVarError: results not defined",
      ""
     ]
    }
   ],
   "source": [
    "results[Vector{Int64}][512][(64,128)]"
   ]
  },
  {
   "cell_type": "code",
   "execution_count": 4,
   "metadata": {},
   "outputs": [
    {
     "name": "stdout",
     "output_type": "stream",
     "text": [
      "4-element BenchmarkTools.BenchmarkGroup:\n",
      "  tags: [\"two_universal\"]\n",
      "  Array{Bool,1} => 7-element BenchmarkTools.BenchmarkGroup:\n",
      "\t  tags: []\n",
      "\t  512 => 1-element BenchmarkTools.BenchmarkGroup:\n",
      "\t\t  tags: []\n",
      "\t\t  (512,1024) => Benchmark(evals=1, seconds=5.0, samples=10000)\n",
      "\t  2097152 => 1-element BenchmarkTools.BenchmarkGroup:\n",
      "\t\t  tags: []\n",
      "\t\t  (512,1024) => Benchmark(evals=1, seconds=5.0, samples=10000)\n",
      "\t  32 => 0-element BenchmarkTools.BenchmarkGroup:\n",
      "\t\t  tags: []\n",
      "\t  33554432 => 1-element BenchmarkTools.BenchmarkGroup:\n",
      "\t\t  tags: []\n",
      "\t\t  (512,1024) => Benchmark(evals=1, seconds=5.0, samples=10000)\n",
      "\t  131072 => 1-element BenchmarkTools.BenchmarkGroup:\n",
      "\t\t  tags: []\n",
      "\t\t  (512,1024) => Benchmark(evals=1, seconds=5.0, samples=10000)\n",
      "\t  8192 => 1-element BenchmarkTools.BenchmarkGroup:\n",
      "\t\t  tags: []\n",
      "\t\t  (512,1024) => Benchmark(evals=1, seconds=5.0, samples=10000)\n",
      "\t  536870912 => 1-element BenchmarkTools.BenchmarkGroup:\n",
      "\t\t  tags: []\n",
      "\t\t  (512,1024) => Benchmark(evals=1, seconds=5.0, samples=10000)\n",
      "  Array{Int8,1} => 7-element BenchmarkTools.BenchmarkGroup:\n",
      "\t  tags: []\n",
      "\t  512 => 1-element BenchmarkTools.BenchmarkGroup:\n",
      "\t\t  tags: []\n",
      "\t\t  (512,1024) => Benchmark(evals=1, seconds=5.0, samples=10000)\n",
      "\t  2097152 => 1-element BenchmarkTools.BenchmarkGroup:\n",
      "\t\t  tags: []\n",
      "\t\t  (512,1024) => Benchmark(evals=1, seconds=5.0, samples=10000)\n",
      "\t  32 => 0-element BenchmarkTools.BenchmarkGroup:\n",
      "\t\t  tags: []\n",
      "\t  33554432 => 1-element BenchmarkTools.BenchmarkGroup:\n",
      "\t\t  tags: []\n",
      "\t\t  (512,1024) => Benchmark(evals=1, seconds=5.0, samples=10000)\n",
      "\t  131072 => 1-element BenchmarkTools.BenchmarkGroup:\n",
      "\t\t  tags: []\n",
      "\t\t  (512,1024) => Benchmark(evals=1, seconds=5.0, samples=10000)\n",
      "\t  8192 => 1-element BenchmarkTools.BenchmarkGroup:\n",
      "\t\t  tags: []\n",
      "\t\t  (512,1024) => Benchmark(evals=1, seconds=5.0, samples=10000)\n",
      "\t  536870912 => 1-element BenchmarkTools.BenchmarkGroup:\n",
      "\t\t  tags: []\n",
      "\t\t  (512,1024) => Benchmark(evals=1, seconds=5.0, samples=10000)\n",
      "  BitArray{1} => 7-element BenchmarkTools.BenchmarkGroup:\n",
      "\t  tags: []\n",
      "\t  512 => 1-element BenchmarkTools.BenchmarkGroup:\n",
      "\t\t  tags: []\n",
      "\t\t  (512,1024) => Benchmark(evals=1, seconds=5.0, samples=10000)\n",
      "\t  2097152 => 1-element BenchmarkTools.BenchmarkGroup:\n",
      "\t\t  tags: []\n",
      "\t\t  (512,1024) => Benchmark(evals=1, seconds=5.0, samples=10000)\n",
      "\t  32 => 0-element BenchmarkTools.BenchmarkGroup:\n",
      "\t\t  tags: []\n",
      "\t  33554432 => 1-element BenchmarkTools.BenchmarkGroup:\n",
      "\t\t  tags: []\n",
      "\t\t  (512,1024) => Benchmark(evals=1, seconds=5.0, samples=10000)\n",
      "\t  131072 => 1-element BenchmarkTools.BenchmarkGroup:\n",
      "\t\t  tags: []\n",
      "\t\t  (512,1024) => Benchmark(evals=1, seconds=5.0, samples=10000)\n",
      "\t  8192 => 1-element BenchmarkTools.BenchmarkGroup:\n",
      "\t\t  tags: []\n",
      "\t\t  (512,1024) => Benchmark(evals=1, seconds=5.0, samples=10000)\n",
      "\t  536870912 => 1-element BenchmarkTools.BenchmarkGroup:\n",
      "\t\t  tags: []\n",
      "\t\t  (512,1024) => Benchmark(evals=1, seconds=5.0, samples=10000)\n",
      "  Array{Int64,1} => 7-element BenchmarkTools.BenchmarkGroup:\n",
      "\t  tags: []\n",
      "\t  512 => 1-element BenchmarkTools.BenchmarkGroup:\n",
      "\t\t  tags: []\n",
      "\t\t  (512,1024) => Benchmark(evals=1, seconds=5.0, samples=10000)\n",
      "\t  2097152 => 1-element BenchmarkTools.BenchmarkGroup:\n",
      "\t\t  tags: []\n",
      "\t\t  (512,1024) => Benchmark(evals=1, seconds=5.0, samples=10000)\n",
      "\t  32 => 0-element BenchmarkTools.BenchmarkGroup:\n",
      "\t\t  tags: []\n",
      "\t  33554432 => 1-element BenchmarkTools.BenchmarkGroup:\n",
      "\t\t  tags: []\n",
      "\t\t  (512,1024) => Benchmark(evals=1, seconds=5.0, samples=10000)\n",
      "\t  131072 => 1-element BenchmarkTools.BenchmarkGroup:\n",
      "\t\t  tags: []\n",
      "\t\t  (512,1024) => Benchmark(evals=1, seconds=5.0, samples=10000)\n",
      "\t  8192 => 1-element BenchmarkTools.BenchmarkGroup:\n",
      "\t\t  tags: []\n",
      "\t\t  (512,1024) => Benchmark(evals=1, seconds=5.0, samples=10000)\n",
      "\t  536870912 => 1-element BenchmarkTools.BenchmarkGroup:\n",
      "\t\t  tags: []\n",
      "\t\t  (512,1024) => Benchmark(evals=1, seconds=5.0, samples=10000)"
     ]
    }
   ],
   "source": [
    "showall(suite)"
   ]
  },
  {
   "cell_type": "code",
   "execution_count": 13,
   "metadata": {},
   "outputs": [
    {
     "data": {
      "text/plain": [
       "BenchmarkTools.Trial: \n",
       "  memory estimate:  0 bytes\n",
       "  allocs estimate:  0\n",
       "  --------------\n",
       "  minimum time:     11.912 s (0.00% GC)\n",
       "  median time:      12.205 s (0.00% GC)\n",
       "  mean time:        12.269 s (0.00% GC)\n",
       "  maximum time:     12.690 s (0.00% GC)\n",
       "  --------------\n",
       "  samples:          3\n",
       "  evals/sample:     1"
      ]
     },
     "execution_count": 13,
     "metadata": {},
     "output_type": "execute_result"
    }
   ],
   "source": [
    "run(suite[Vector{Int64}][8192][(512, 1024)], samples=3, seconds=60)"
   ]
  },
  {
   "cell_type": "code",
   "execution_count": 15,
   "metadata": {},
   "outputs": [
    {
     "data": {
      "text/plain": [
       "BenchmarkTools.Trial: \n",
       "  memory estimate:  0 bytes\n",
       "  allocs estimate:  0\n",
       "  --------------\n",
       "  minimum time:     4.356 s (0.00% GC)\n",
       "  median time:      4.425 s (0.00% GC)\n",
       "  mean time:        4.432 s (0.00% GC)\n",
       "  maximum time:     4.554 s (0.00% GC)\n",
       "  --------------\n",
       "  samples:          14\n",
       "  evals/sample:     1"
      ]
     },
     "execution_count": 15,
     "metadata": {},
     "output_type": "execute_result"
    }
   ],
   "source": [
    "run(suite[Vector{Int8}][8192][(512, 1024)], samples=20, seconds=60)"
   ]
  },
  {
   "cell_type": "code",
   "execution_count": 20,
   "metadata": {},
   "outputs": [
    {
     "name": "stderr",
     "output_type": "stream",
     "text": [
      "WARNING: Method definition benchit(Type, Integer, Integer, Integer, Symbol) in module Main at In[17]:4 overwritten at In[20]:4.\n"
     ]
    },
    {
     "data": {
      "text/plain": [
       "benchit (generic function with 1 method)"
      ]
     },
     "execution_count": 20,
     "metadata": {},
     "output_type": "execute_result"
    }
   ],
   "source": [
    "using ExtractRandom, BenchmarkTools\n",
    "T, n, m, mult = Int8, 512, 1024, 64\n",
    "\n",
    "benchit(T::Type, n::Integer, m::Integer, mult::Integer, algo::Symbol) = begin\n",
    "    nbits = 8sizeof(T)\n",
    "    a = rand(T, (n, m))\n",
    "    v = rand(T, size(a, 2) * mult)\n",
    "    out = zeros(T, round(Int64, (size(a, 1) * mult) / nbits, RoundUp))\n",
    "    if algo == :bits\n",
    "        a = convert(BitMatrix, a)\n",
    "        v = convert(BitArray, v)\n",
    "        out = BitArray(length(out) * 8sizeof(T))\n",
    "        @benchmarkable two_universal!($(Val{algo}), $(a), $(v), $(out))\n",
    "    elseif algo == :row_major\n",
    "        a = transpose(a)\n",
    "        println(length(v), \" \", length(out), \" \", size(a))\n",
    "        @benchmarkable ExtractRandom.row_major_two_universal!($(a), $(v), $(out))\n",
    "    elseif algo == :full_width\n",
    "        @assert n % nbits == 0\n",
    "        a = rand(T, (m * nbits, div(n, nbits)))\n",
    "        v = rand(T, (m * mult))\n",
    "        shifts = rand(T(1):T(nbits - 1), size(a))\n",
    "        out = zeros(T, size(a, 2) * div(length(v), size(a, 1)))\n",
    "        println(length(v), \" \", length(out), size(a))\n",
    "        @benchmarkable ExtractRandom.full_width_two_universal!($a, $shifts, $v, $out)\n",
    "    else\n",
    "        @benchmarkable two_universal!($(Val{algo}), $(a), $(v), $(out))\n",
    "    end  \n",
    "end"
   ]
  },
  {
   "cell_type": "code",
   "execution_count": 18,
   "metadata": {},
   "outputs": [
    {
     "data": {
      "text/plain": [
       "BenchmarkTools.Trial: \n",
       "  memory estimate:  257.02 KiB\n",
       "  allocs estimate:  22\n",
       "  --------------\n",
       "  minimum time:     415.015 ms (0.00% GC)\n",
       "  median time:      436.494 ms (0.00% GC)\n",
       "  mean time:        442.841 ms (0.00% GC)\n",
       "  maximum time:     492.409 ms (0.00% GC)\n",
       "  --------------\n",
       "  samples:          12\n",
       "  evals/sample:     1"
      ]
     },
     "execution_count": 18,
     "metadata": {},
     "output_type": "execute_result"
    }
   ],
   "source": [
    "b = benchit(Int64, 64*512, 1024, 10, :work)\n",
    "tune!(b)\n",
    "run(b)"
   ]
  },
  {
   "cell_type": "code",
   "execution_count": 20,
   "metadata": {},
   "outputs": [
    {
     "data": {
      "text/plain": [
       "BenchmarkTools.Trial: \n",
       "  memory estimate:  33.08 KiB\n",
       "  allocs estimate:  22\n",
       "  --------------\n",
       "  minimum time:     3.896 s (0.00% GC)\n",
       "  median time:      3.912 s (0.00% GC)\n",
       "  mean time:        3.912 s (0.00% GC)\n",
       "  maximum time:     3.927 s (0.00% GC)\n",
       "  --------------\n",
       "  samples:          2\n",
       "  evals/sample:     1"
      ]
     },
     "execution_count": 20,
     "metadata": {},
     "output_type": "execute_result"
    }
   ],
   "source": [
    "b = benchit(Int8, 64*512, 8 * 1024, 10, :work)\n",
    "tune!(b)\n",
    "run(b)"
   ]
  },
  {
   "cell_type": "code",
   "execution_count": 21,
   "metadata": {},
   "outputs": [
    {
     "data": {
      "text/plain": [
       "BenchmarkTools.Trial: \n",
       "  memory estimate:  0 bytes\n",
       "  allocs estimate:  0\n",
       "  --------------\n",
       "  minimum time:     116.579 s (0.00% GC)\n",
       "  median time:      116.579 s (0.00% GC)\n",
       "  mean time:        116.579 s (0.00% GC)\n",
       "  maximum time:     116.579 s (0.00% GC)\n",
       "  --------------\n",
       "  samples:          1\n",
       "  evals/sample:     1"
      ]
     },
     "execution_count": 21,
     "metadata": {},
     "output_type": "execute_result"
    }
   ],
   "source": [
    "b = benchit(Int8, 64*512, 8*1024, 10, :naive)\n",
    "tune!(b)\n",
    "run(b)"
   ]
  },
  {
   "cell_type": "code",
   "execution_count": 1,
   "metadata": {},
   "outputs": [
    {
     "data": {
      "text/plain": [
       "BenchmarkTools.Trial: \n",
       "  memory estimate:  0 bytes\n",
       "  allocs estimate:  0\n",
       "  --------------\n",
       "  minimum time:     57.119 ns (0.00% GC)\n",
       "  median time:      58.767 ns (0.00% GC)\n",
       "  mean time:        62.460 ns (0.00% GC)\n",
       "  maximum time:     472.839 ns (0.00% GC)\n",
       "  --------------\n",
       "  samples:          10000\n",
       "  evals/sample:     983"
      ]
     },
     "execution_count": 1,
     "metadata": {},
     "output_type": "execute_result"
    }
   ],
   "source": [
    "using ExtractRandom, BenchmarkTools\n",
    "b = @benchmarkable(ExtractRandom.naive_xorbits(1))\n",
    "tune!(b)\n",
    "run(b)"
   ]
  },
  {
   "cell_type": "code",
   "execution_count": 3,
   "metadata": {},
   "outputs": [
    {
     "data": {
      "text/plain": [
       "BenchmarkTools.Trial: \n",
       "  memory estimate:  0 bytes\n",
       "  allocs estimate:  0\n",
       "  --------------\n",
       "  minimum time:     1.695 ns (0.00% GC)\n",
       "  median time:      1.797 ns (0.00% GC)\n",
       "  mean time:        1.900 ns (0.00% GC)\n",
       "  maximum time:     14.262 ns (0.00% GC)\n",
       "  --------------\n",
       "  samples:          10000\n",
       "  evals/sample:     1000"
      ]
     },
     "execution_count": 3,
     "metadata": {},
     "output_type": "execute_result"
    }
   ],
   "source": [
    "b = @benchmarkable(ExtractRandom.weird_xorbits(1))\n",
    "tune!(b)\n",
    "run(b)"
   ]
  },
  {
   "cell_type": "code",
   "execution_count": 7,
   "metadata": {},
   "outputs": [
    {
     "data": {
      "text/plain": [
       "BenchmarkTools.Trial: \n",
       "  memory estimate:  257.02 KiB\n",
       "  allocs estimate:  22\n",
       "  --------------\n",
       "  minimum time:     394.871 ms (0.00% GC)\n",
       "  median time:      406.699 ms (0.00% GC)\n",
       "  mean time:        406.014 ms (0.00% GC)\n",
       "  maximum time:     415.807 ms (0.00% GC)\n",
       "  --------------\n",
       "  samples:          13\n",
       "  evals/sample:     1"
      ]
     },
     "execution_count": 7,
     "metadata": {},
     "output_type": "execute_result"
    }
   ],
   "source": [
    "b = benchit(Int64, 64*512, 1024, 10, :work)\n",
    "tune!(b)\n",
    "run(b)"
   ]
  },
  {
   "cell_type": "code",
   "execution_count": 21,
   "metadata": {},
   "outputs": [
    {
     "name": "stdout",
     "output_type": "stream",
     "text": [
      "65536 32768 (1024,32768)\n"
     ]
    },
    {
     "data": {
      "text/plain": [
       "Benchmark(evals=1, seconds=5.0, samples=10000)"
      ]
     },
     "execution_count": 21,
     "metadata": {},
     "output_type": "execute_result"
    }
   ],
   "source": [
    "b = benchit(Int64, 64*512, 1024, 64, :row_major)\n",
    "#tune!(b)\n",
    "#run(b)"
   ]
  },
  {
   "cell_type": "code",
   "execution_count": 22,
   "metadata": {},
   "outputs": [
    {
     "name": "stdout",
     "output_type": "stream",
     "text": [
      "65536 512(65536,512)\n"
     ]
    },
    {
     "data": {
      "text/plain": [
       "Benchmark(evals=1, seconds=5.0, samples=10000)"
      ]
     },
     "execution_count": 22,
     "metadata": {},
     "output_type": "execute_result"
    }
   ],
   "source": [
    "b = benchit(Int64, 64*512, 1024, 64, :full_width)\n",
    "#tune!(b)\n",
    "#run(b)"
   ]
  },
  {
   "cell_type": "code",
   "execution_count": 24,
   "metadata": {},
   "outputs": [
    {
     "data": {
      "text/plain": [
       "32768"
      ]
     },
     "execution_count": 24,
     "metadata": {},
     "output_type": "execute_result"
    }
   ],
   "source": [
    "a = ExtractRandom.RowMajorTwoUniversal(rand(Int64, (1024, 32768)))\n",
    "length(a(rand(Int64, 1024 * 64)))"
   ]
  },
  {
   "cell_type": "code",
   "execution_count": 25,
   "metadata": {},
   "outputs": [
    {
     "data": {
      "text/plain": [
       "32768"
      ]
     },
     "execution_count": 25,
     "metadata": {},
     "output_type": "execute_result"
    }
   ],
   "source": [
    "b = ExtractRandom.FullWidthTwoUniversal(rand(Int64, (64 * 1024, 512)))"
   ]
  },
  {
   "cell_type": "code",
   "execution_count": 26,
   "metadata": {},
   "outputs": [
    {
     "data": {
      "text/plain": [
       "true"
      ]
     },
     "execution_count": 26,
     "metadata": {},
     "output_type": "execute_result"
    }
   ],
   "source": [
    "65536 * 512 == 1024 * 32768"
   ]
  },
  {
   "cell_type": "code",
   "execution_count": null,
   "metadata": {
    "collapsed": true
   },
   "outputs": [],
   "source": []
  }
 ],
 "metadata": {
  "kernelspec": {
   "display_name": "Julia 0.5.2",
   "language": "julia",
   "name": "julia-0.5"
  },
  "language_info": {
   "file_extension": ".jl",
   "mimetype": "application/julia",
   "name": "julia",
   "version": "0.5.2"
  }
 },
 "nbformat": 4,
 "nbformat_minor": 2
}
